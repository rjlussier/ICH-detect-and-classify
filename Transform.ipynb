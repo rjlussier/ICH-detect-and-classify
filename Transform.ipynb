{
 "cells": [
  {
   "cell_type": "markdown",
   "metadata": {},
   "source": [
    "## Transform/Preprocess Data"
   ]
  },
  {
   "cell_type": "code",
   "execution_count": 4,
   "metadata": {},
   "outputs": [],
   "source": [
    "import os\n",
    "import numpy as np\n",
    "import pandas as pd\n",
    "import matplotlib.pyplot as plt\n",
    "import pickle\n",
    "import pydicom\n",
    "from pydicom.pixel_data_handlers.util import apply_modality_lut\n"
   ]
  },
  {
   "cell_type": "code",
   "execution_count": 24,
   "metadata": {},
   "outputs": [],
   "source": [
    "# definte training and test paths for data input/output\n",
    "train_path = '/Users/ryanlussier/ICH Detection and Classification/data/train/'\n",
    "test_path = '/Users/ryanlussier/ICH Detection and Classification/data/test/'\n",
    "\n",
    "# create directory object for training data\n",
    "directory = os.fsencode(train_path)\n",
    "\n",
    "ids = []\n",
    "images = []\n",
    "\n",
    "#loop through all files in training data directory\n",
    "for file in os.listdir(directory):\n",
    "    filename = os.fsdecode(file)\n",
    "    if filename.endswith(\".dcm\"):\n",
    "        # read dcm file\n",
    "        scan = pydicom.dcmread(train_path + filename)\n",
    "        ids.append(filename.split('.')[0])\n",
    "        # extract pixel array\n",
    "        image = scan.pixel_array\n",
    "        \n",
    "        # transform to hounsfield scale\n",
    "        image = apply_modality_lut(image, scan).astype(dtype='float16')\n",
    "        \n",
    "        # max normalize each image\n",
    "        mx = np.max(np.abs(image))\n",
    "        image_normed = image/mx\n",
    "        \n",
    "        #append pixel array to images list\n",
    "        images.append(image_normed)\n",
    "        \n",
    "        continue\n",
    "    else:\n",
    "        continue\n"
   ]
  },
  {
   "cell_type": "code",
   "execution_count": 5,
   "metadata": {},
   "outputs": [
    {
     "data": {
      "text/plain": [
       "'\\nimages_pkl = \"transformed_images.pkl\"\\nimage_ids = \"image_ids.pkl\"\\n\\nopen_file = open(images_pkl, \"wb\")\\npickle.dump(images, open_file)\\nopen_file.close()\\n\\nopen_file = open(image_ids, \"wb\")\\npickle.dump(ids, open_file)\\nopen_file.close()\\n'"
      ]
     },
     "execution_count": 5,
     "metadata": {},
     "output_type": "execute_result"
    }
   ],
   "source": [
    "\n",
    "images_pkl = \"transformed_images.pkl\"\n",
    "image_ids = \"image_ids.pkl\"\n",
    "\n",
    "open_file = open(images_pkl, \"wb\")\n",
    "pickle.dump(images, open_file)\n",
    "open_file.close()\n",
    "\n",
    "open_file = open(image_ids, \"wb\")\n",
    "pickle.dump(ids, open_file)\n",
    "open_file.close()\n",
    "\n"
   ]
  },
  {
   "cell_type": "code",
   "execution_count": 6,
   "metadata": {},
   "outputs": [
    {
     "data": {
      "text/plain": [
       "'open_file = open(image_ids, \"rb\")\\nloaded_list = pickle.load(open_file)\\nopen_file.close()'"
      ]
     },
     "execution_count": 6,
     "metadata": {},
     "output_type": "execute_result"
    }
   ],
   "source": [
    "open_file = open(image_ids, \"rb\")\n",
    "loaded_list = pickle.load(open_file)\n",
    "open_file.close()\n",
    "\n"
   ]
  },
  {
   "cell_type": "code",
   "execution_count": 26,
   "metadata": {},
   "outputs": [],
   "source": [
    "\n",
    "\n",
    "training_df = pd.read_csv(train_path + 'stage_2_train.csv')\n",
    "training_df[['ID', 'Subtype']] = training_df.ID.str.rsplit(pat='_', expand=True, n=1)"
   ]
  },
  {
   "cell_type": "code",
   "execution_count": 27,
   "metadata": {},
   "outputs": [],
   "source": [
    "training_df = training_df.drop_duplicates()\n",
    "train_pivot = training_df.pivot(index='ID', columns='Subtype', values='Label')"
   ]
  },
  {
   "cell_type": "code",
   "execution_count": 28,
   "metadata": {},
   "outputs": [
    {
     "data": {
      "text/html": [
       "<div>\n",
       "<style scoped>\n",
       "    .dataframe tbody tr th:only-of-type {\n",
       "        vertical-align: middle;\n",
       "    }\n",
       "\n",
       "    .dataframe tbody tr th {\n",
       "        vertical-align: top;\n",
       "    }\n",
       "\n",
       "    .dataframe thead th {\n",
       "        text-align: right;\n",
       "    }\n",
       "</style>\n",
       "<table border=\"1\" class=\"dataframe\">\n",
       "  <thead>\n",
       "    <tr style=\"text-align: right;\">\n",
       "      <th>Subtype</th>\n",
       "      <th>any</th>\n",
       "      <th>epidural</th>\n",
       "      <th>intraparenchymal</th>\n",
       "      <th>intraventricular</th>\n",
       "      <th>subarachnoid</th>\n",
       "      <th>subdural</th>\n",
       "      <th>Y_vals</th>\n",
       "    </tr>\n",
       "    <tr>\n",
       "      <th>ID</th>\n",
       "      <th></th>\n",
       "      <th></th>\n",
       "      <th></th>\n",
       "      <th></th>\n",
       "      <th></th>\n",
       "      <th></th>\n",
       "      <th></th>\n",
       "    </tr>\n",
       "  </thead>\n",
       "  <tbody>\n",
       "    <tr>\n",
       "      <td>ID_0002081b6</td>\n",
       "      <td>1</td>\n",
       "      <td>0</td>\n",
       "      <td>1</td>\n",
       "      <td>0</td>\n",
       "      <td>0</td>\n",
       "      <td>0</td>\n",
       "      <td>[1, 0, 1, 0, 0, 0]</td>\n",
       "    </tr>\n",
       "    <tr>\n",
       "      <td>ID_0002108bd</td>\n",
       "      <td>0</td>\n",
       "      <td>0</td>\n",
       "      <td>0</td>\n",
       "      <td>0</td>\n",
       "      <td>0</td>\n",
       "      <td>0</td>\n",
       "      <td>[0, 0, 0, 0, 0, 0]</td>\n",
       "    </tr>\n",
       "    <tr>\n",
       "      <td>ID_000229f2a</td>\n",
       "      <td>0</td>\n",
       "      <td>0</td>\n",
       "      <td>0</td>\n",
       "      <td>0</td>\n",
       "      <td>0</td>\n",
       "      <td>0</td>\n",
       "      <td>[0, 0, 0, 0, 0, 0]</td>\n",
       "    </tr>\n",
       "    <tr>\n",
       "      <td>ID_000230ed7</td>\n",
       "      <td>0</td>\n",
       "      <td>0</td>\n",
       "      <td>0</td>\n",
       "      <td>0</td>\n",
       "      <td>0</td>\n",
       "      <td>0</td>\n",
       "      <td>[0, 0, 0, 0, 0, 0]</td>\n",
       "    </tr>\n",
       "    <tr>\n",
       "      <td>ID_000259ccf</td>\n",
       "      <td>0</td>\n",
       "      <td>0</td>\n",
       "      <td>0</td>\n",
       "      <td>0</td>\n",
       "      <td>0</td>\n",
       "      <td>0</td>\n",
       "      <td>[0, 0, 0, 0, 0, 0]</td>\n",
       "    </tr>\n",
       "    <tr>\n",
       "      <td>ID_00025ef4b</td>\n",
       "      <td>0</td>\n",
       "      <td>0</td>\n",
       "      <td>0</td>\n",
       "      <td>0</td>\n",
       "      <td>0</td>\n",
       "      <td>0</td>\n",
       "      <td>[0, 0, 0, 0, 0, 0]</td>\n",
       "    </tr>\n",
       "    <tr>\n",
       "      <td>ID_000270f8b</td>\n",
       "      <td>0</td>\n",
       "      <td>0</td>\n",
       "      <td>0</td>\n",
       "      <td>0</td>\n",
       "      <td>0</td>\n",
       "      <td>0</td>\n",
       "      <td>[0, 0, 0, 0, 0, 0]</td>\n",
       "    </tr>\n",
       "    <tr>\n",
       "      <td>ID_00027c277</td>\n",
       "      <td>0</td>\n",
       "      <td>0</td>\n",
       "      <td>0</td>\n",
       "      <td>0</td>\n",
       "      <td>0</td>\n",
       "      <td>0</td>\n",
       "      <td>[0, 0, 0, 0, 0, 0]</td>\n",
       "    </tr>\n",
       "    <tr>\n",
       "      <td>ID_00027cbb1</td>\n",
       "      <td>0</td>\n",
       "      <td>0</td>\n",
       "      <td>0</td>\n",
       "      <td>0</td>\n",
       "      <td>0</td>\n",
       "      <td>0</td>\n",
       "      <td>[0, 0, 0, 0, 0, 0]</td>\n",
       "    </tr>\n",
       "    <tr>\n",
       "      <td>ID_000280440</td>\n",
       "      <td>0</td>\n",
       "      <td>0</td>\n",
       "      <td>0</td>\n",
       "      <td>0</td>\n",
       "      <td>0</td>\n",
       "      <td>0</td>\n",
       "      <td>[0, 0, 0, 0, 0, 0]</td>\n",
       "    </tr>\n",
       "    <tr>\n",
       "      <td>ID_0002a38ad</td>\n",
       "      <td>1</td>\n",
       "      <td>0</td>\n",
       "      <td>0</td>\n",
       "      <td>0</td>\n",
       "      <td>1</td>\n",
       "      <td>1</td>\n",
       "      <td>[1, 0, 0, 0, 1, 1]</td>\n",
       "    </tr>\n",
       "  </tbody>\n",
       "</table>\n",
       "</div>"
      ],
      "text/plain": [
       "Subtype       any  epidural  intraparenchymal  intraventricular  subarachnoid  \\\n",
       "ID                                                                              \n",
       "ID_0002081b6    1         0                 1                 0             0   \n",
       "ID_0002108bd    0         0                 0                 0             0   \n",
       "ID_000229f2a    0         0                 0                 0             0   \n",
       "ID_000230ed7    0         0                 0                 0             0   \n",
       "ID_000259ccf    0         0                 0                 0             0   \n",
       "ID_00025ef4b    0         0                 0                 0             0   \n",
       "ID_000270f8b    0         0                 0                 0             0   \n",
       "ID_00027c277    0         0                 0                 0             0   \n",
       "ID_00027cbb1    0         0                 0                 0             0   \n",
       "ID_000280440    0         0                 0                 0             0   \n",
       "ID_0002a38ad    1         0                 0                 0             1   \n",
       "\n",
       "Subtype       subdural              Y_vals  \n",
       "ID                                          \n",
       "ID_0002081b6         0  [1, 0, 1, 0, 0, 0]  \n",
       "ID_0002108bd         0  [0, 0, 0, 0, 0, 0]  \n",
       "ID_000229f2a         0  [0, 0, 0, 0, 0, 0]  \n",
       "ID_000230ed7         0  [0, 0, 0, 0, 0, 0]  \n",
       "ID_000259ccf         0  [0, 0, 0, 0, 0, 0]  \n",
       "ID_00025ef4b         0  [0, 0, 0, 0, 0, 0]  \n",
       "ID_000270f8b         0  [0, 0, 0, 0, 0, 0]  \n",
       "ID_00027c277         0  [0, 0, 0, 0, 0, 0]  \n",
       "ID_00027cbb1         0  [0, 0, 0, 0, 0, 0]  \n",
       "ID_000280440         0  [0, 0, 0, 0, 0, 0]  \n",
       "ID_0002a38ad         1  [1, 0, 0, 0, 1, 1]  "
      ]
     },
     "execution_count": 28,
     "metadata": {},
     "output_type": "execute_result"
    }
   ],
   "source": [
    "col_names = train_pivot.columns.values.tolist()\n",
    "train_pivot['Y_vals'] = train_pivot[col_names].to_numpy().tolist()\n",
    "train_pivot.iloc[14:25]"
   ]
  },
  {
   "cell_type": "code",
   "execution_count": 30,
   "metadata": {},
   "outputs": [],
   "source": [
    "train_Y = train_pivot.Y_vals\n",
    "train_Y_sub = train_Y[ids]\n",
    "\n"
   ]
  },
  {
   "cell_type": "code",
   "execution_count": 31,
   "metadata": {},
   "outputs": [
    {
     "data": {
      "text/plain": [
       "ID\n",
       "ID_e081d0aea    [1, 0, 1, 0, 0, 1]\n",
       "ID_5d421e995    [0, 0, 0, 0, 0, 0]\n",
       "ID_aeee86469    [0, 0, 0, 0, 0, 0]\n",
       "ID_76064057c    [0, 0, 0, 0, 0, 0]\n",
       "ID_a207005ec    [0, 0, 0, 0, 0, 0]\n",
       "Name: Y_vals, dtype: object"
      ]
     },
     "execution_count": 31,
     "metadata": {},
     "output_type": "execute_result"
    }
   ],
   "source": [
    "train_Y_sub[0:5]"
   ]
  },
  {
   "cell_type": "code",
   "execution_count": 32,
   "metadata": {},
   "outputs": [],
   "source": [
    "# build dataframe from images\n",
    "train_x = pd.DataFrame(list(zip(ids, images)), columns=['ID', 'image_array'])\n"
   ]
  },
  {
   "cell_type": "code",
   "execution_count": 33,
   "metadata": {},
   "outputs": [],
   "source": [
    "# join X and y data\n",
    "mod_df = pd.merge(train_x, train_Y, how='left', left_on='ID', right_index=True)\n",
    "\n"
   ]
  },
  {
   "cell_type": "code",
   "execution_count": 15,
   "metadata": {},
   "outputs": [
    {
     "data": {
      "text/html": [
       "<div>\n",
       "<style scoped>\n",
       "    .dataframe tbody tr th:only-of-type {\n",
       "        vertical-align: middle;\n",
       "    }\n",
       "\n",
       "    .dataframe tbody tr th {\n",
       "        vertical-align: top;\n",
       "    }\n",
       "\n",
       "    .dataframe thead th {\n",
       "        text-align: right;\n",
       "    }\n",
       "</style>\n",
       "<table border=\"1\" class=\"dataframe\">\n",
       "  <thead>\n",
       "    <tr style=\"text-align: right;\">\n",
       "      <th></th>\n",
       "      <th>ID</th>\n",
       "      <th>image_array</th>\n",
       "      <th>Y_vals</th>\n",
       "    </tr>\n",
       "  </thead>\n",
       "  <tbody>\n",
       "    <tr>\n",
       "      <td>0</td>\n",
       "      <td>ID_e081d0aea</td>\n",
       "      <td>[[-1.0, -1.0, -1.0, -1.0, -1.0, -1.0, -1.0, -1...</td>\n",
       "      <td>[1, 0, 1, 0, 0, 1]</td>\n",
       "    </tr>\n",
       "    <tr>\n",
       "      <td>1</td>\n",
       "      <td>ID_5d421e995</td>\n",
       "      <td>[[-0.9596928982725528, -0.9596928982725528, -0...</td>\n",
       "      <td>[0, 0, 0, 0, 0, 0]</td>\n",
       "    </tr>\n",
       "    <tr>\n",
       "      <td>2</td>\n",
       "      <td>ID_aeee86469</td>\n",
       "      <td>[[-0.6341154090044389, -0.6341154090044389, -0...</td>\n",
       "      <td>[0, 0, 0, 0, 0, 0]</td>\n",
       "    </tr>\n",
       "    <tr>\n",
       "      <td>3</td>\n",
       "      <td>ID_76064057c</td>\n",
       "      <td>[[-1.0, -1.0, -1.0, -1.0, -1.0, -1.0, -1.0, -1...</td>\n",
       "      <td>[0, 0, 0, 0, 0, 0]</td>\n",
       "    </tr>\n",
       "    <tr>\n",
       "      <td>4</td>\n",
       "      <td>ID_a207005ec</td>\n",
       "      <td>[[-0.755656108597285, -0.755656108597285, -0.7...</td>\n",
       "      <td>[0, 0, 0, 0, 0, 0]</td>\n",
       "    </tr>\n",
       "  </tbody>\n",
       "</table>\n",
       "</div>"
      ],
      "text/plain": [
       "             ID                                        image_array  \\\n",
       "0  ID_e081d0aea  [[-1.0, -1.0, -1.0, -1.0, -1.0, -1.0, -1.0, -1...   \n",
       "1  ID_5d421e995  [[-0.9596928982725528, -0.9596928982725528, -0...   \n",
       "2  ID_aeee86469  [[-0.6341154090044389, -0.6341154090044389, -0...   \n",
       "3  ID_76064057c  [[-1.0, -1.0, -1.0, -1.0, -1.0, -1.0, -1.0, -1...   \n",
       "4  ID_a207005ec  [[-0.755656108597285, -0.755656108597285, -0.7...   \n",
       "\n",
       "               Y_vals  \n",
       "0  [1, 0, 1, 0, 0, 1]  \n",
       "1  [0, 0, 0, 0, 0, 0]  \n",
       "2  [0, 0, 0, 0, 0, 0]  \n",
       "3  [0, 0, 0, 0, 0, 0]  \n",
       "4  [0, 0, 0, 0, 0, 0]  "
      ]
     },
     "execution_count": 15,
     "metadata": {},
     "output_type": "execute_result"
    }
   ],
   "source": [
    "mod_df.head()"
   ]
  },
  {
   "cell_type": "code",
   "execution_count": 34,
   "metadata": {},
   "outputs": [],
   "source": [
    "mod_df1 = mod_df.head(5000)\n",
    "mod_df1.to_pickle(train_path + 'mod_df1.pickle')"
   ]
  },
  {
   "cell_type": "code",
   "execution_count": 35,
   "metadata": {},
   "outputs": [],
   "source": [
    "mod_df2 = mod_df.tail(5000)\n",
    "mod_df2.to_pickle(train_path + 'mod_df2.pickle')"
   ]
  },
  {
   "cell_type": "code",
   "execution_count": null,
   "metadata": {},
   "outputs": [],
   "source": []
  }
 ],
 "metadata": {
  "kernelspec": {
   "display_name": "Python 3",
   "language": "python",
   "name": "python3"
  },
  "language_info": {
   "codemirror_mode": {
    "name": "ipython",
    "version": 3
   },
   "file_extension": ".py",
   "mimetype": "text/x-python",
   "name": "python",
   "nbconvert_exporter": "python",
   "pygments_lexer": "ipython3",
   "version": "3.7.4"
  }
 },
 "nbformat": 4,
 "nbformat_minor": 2
}
