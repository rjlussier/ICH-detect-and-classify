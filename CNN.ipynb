{
 "cells": [
  {
   "cell_type": "markdown",
   "metadata": {},
   "source": [
    "## CNN Compile and Train"
   ]
  },
  {
   "cell_type": "code",
   "execution_count": 2,
   "metadata": {},
   "outputs": [],
   "source": [
    "import pandas as pd\n",
    "import keras\n",
    "from sklearn.model_selection import train_test_split\n",
    "from keras.models import Sequential\n",
    "from keras.layers import Dense, Dropout, Flatten\n",
    "from keras.layers import Conv2D, MaxPooling2D\n",
    "import numpy as np"
   ]
  },
  {
   "cell_type": "code",
   "execution_count": 3,
   "metadata": {},
   "outputs": [
    {
     "data": {
      "text/html": [
       "<div>\n",
       "<style scoped>\n",
       "    .dataframe tbody tr th:only-of-type {\n",
       "        vertical-align: middle;\n",
       "    }\n",
       "\n",
       "    .dataframe tbody tr th {\n",
       "        vertical-align: top;\n",
       "    }\n",
       "\n",
       "    .dataframe thead th {\n",
       "        text-align: right;\n",
       "    }\n",
       "</style>\n",
       "<table border=\"1\" class=\"dataframe\">\n",
       "  <thead>\n",
       "    <tr style=\"text-align: right;\">\n",
       "      <th></th>\n",
       "      <th>ID</th>\n",
       "      <th>image_array</th>\n",
       "      <th>Y_vals</th>\n",
       "    </tr>\n",
       "  </thead>\n",
       "  <tbody>\n",
       "    <tr>\n",
       "      <td>0</td>\n",
       "      <td>ID_e081d0aea</td>\n",
       "      <td>[[-1.0, -1.0, -1.0, -1.0, -1.0, -1.0, -1.0, -1...</td>\n",
       "      <td>[1, 0, 1, 0, 0, 1]</td>\n",
       "    </tr>\n",
       "    <tr>\n",
       "      <td>1</td>\n",
       "      <td>ID_5d421e995</td>\n",
       "      <td>[[-0.9595, -0.9595, -0.9604, -0.9614, -0.9614,...</td>\n",
       "      <td>[0, 0, 0, 0, 0, 0]</td>\n",
       "    </tr>\n",
       "    <tr>\n",
       "      <td>2</td>\n",
       "      <td>ID_aeee86469</td>\n",
       "      <td>[[-0.6343, -0.6343, -0.6343, -0.6333, -0.6333,...</td>\n",
       "      <td>[0, 0, 0, 0, 0, 0]</td>\n",
       "    </tr>\n",
       "    <tr>\n",
       "      <td>3</td>\n",
       "      <td>ID_76064057c</td>\n",
       "      <td>[[-1.0, -1.0, -1.0, -1.0, -1.0, -1.0, -1.0, -1...</td>\n",
       "      <td>[0, 0, 0, 0, 0, 0]</td>\n",
       "    </tr>\n",
       "    <tr>\n",
       "      <td>4</td>\n",
       "      <td>ID_a207005ec</td>\n",
       "      <td>[[-0.756, -0.756, -0.755, -0.755, -0.754, -0.7...</td>\n",
       "      <td>[0, 0, 0, 0, 0, 0]</td>\n",
       "    </tr>\n",
       "  </tbody>\n",
       "</table>\n",
       "</div>"
      ],
      "text/plain": [
       "             ID                                        image_array  \\\n",
       "0  ID_e081d0aea  [[-1.0, -1.0, -1.0, -1.0, -1.0, -1.0, -1.0, -1...   \n",
       "1  ID_5d421e995  [[-0.9595, -0.9595, -0.9604, -0.9614, -0.9614,...   \n",
       "2  ID_aeee86469  [[-0.6343, -0.6343, -0.6343, -0.6333, -0.6333,...   \n",
       "3  ID_76064057c  [[-1.0, -1.0, -1.0, -1.0, -1.0, -1.0, -1.0, -1...   \n",
       "4  ID_a207005ec  [[-0.756, -0.756, -0.755, -0.755, -0.754, -0.7...   \n",
       "\n",
       "               Y_vals  \n",
       "0  [1, 0, 1, 0, 0, 1]  \n",
       "1  [0, 0, 0, 0, 0, 0]  \n",
       "2  [0, 0, 0, 0, 0, 0]  \n",
       "3  [0, 0, 0, 0, 0, 0]  \n",
       "4  [0, 0, 0, 0, 0, 0]  "
      ]
     },
     "execution_count": 3,
     "metadata": {},
     "output_type": "execute_result"
    }
   ],
   "source": [
    "data_path = '/Users/ryanlussier/ICH Detection and Classification/data/train/'\n",
    "\n",
    "#open_file = open(image_ids, \"rb\")\n",
    "#loaded_list = pickle.load(open_file)\n",
    "#open_file.close()\n",
    "\n",
    "#Read the pickle file\n",
    "data_set1 = pd.read_pickle(data_path + 'mod_df1.pickle')\n",
    "data_set2 = pd.read_pickle(data_path + 'mod_df2.pickle')\n",
    "data_set = pd.concat([data_set1, data_set2])\n",
    "#data_set = pd.read_pickle(data_path + 'mod_df.csv')\n",
    "data_set.head()"
   ]
  },
  {
   "cell_type": "code",
   "execution_count": 4,
   "metadata": {},
   "outputs": [],
   "source": [
    "X = np.array(data_set.image_array.iloc[0:1200].tolist())\n",
    "y = np.array(data_set.Y_vals.iloc[0:1200].tolist())"
   ]
  },
  {
   "cell_type": "code",
   "execution_count": 36,
   "metadata": {},
   "outputs": [],
   "source": [
    "\n",
    "# the data, split between train and test sets\n",
    "X_train, X_test, y_train, y_test = train_test_split(X, y, test_size=0.20, random_state=42)"
   ]
  },
  {
   "cell_type": "code",
   "execution_count": 43,
   "metadata": {},
   "outputs": [
    {
     "name": "stdout",
     "output_type": "stream",
     "text": [
      "x_train shape: (960, 512, 512, 1)\n",
      "960 train samples\n",
      "240 test samples\n"
     ]
    }
   ],
   "source": [
    "# input image dimensions\n",
    "img_rows, img_cols = 512, 512\n",
    "\n",
    "X_train = X_train.reshape(X_train.shape[0],512,512,1)\n",
    "X_test = X_test.reshape(X_test.shape[0],512,512,1)\n",
    "\n",
    "print('x_train shape:', X_train.shape)\n",
    "print(X_train.shape[0], 'train samples')\n",
    "print(X_test.shape[0], 'test samples')\n"
   ]
  },
  {
   "cell_type": "code",
   "execution_count": 38,
   "metadata": {},
   "outputs": [],
   "source": [
    "batch_size = 32\n",
    "num_classes = 6\n",
    "epochs = 25\n",
    "\n",
    "model = Sequential()\n",
    "model.add(Conv2D(16, kernel_size=(7, 7),\n",
    "                 activation='relu',\n",
    "                 input_shape=(512,512,1)))\n",
    "model.add(Conv2D(32, (5, 5), activation='relu'))\n",
    "model.add(MaxPooling2D(pool_size=(2, 2)))\n",
    "model.add(Dropout(0.25))\n",
    "model.add(Flatten())\n",
    "model.add(Dense(16, activation='relu'))\n",
    "model.add(Dropout(0.5))\n",
    "model.add(Dense(num_classes, activation='softmax'))"
   ]
  },
  {
   "cell_type": "code",
   "execution_count": 39,
   "metadata": {},
   "outputs": [
    {
     "name": "stdout",
     "output_type": "stream",
     "text": [
      "Epoch 1/25\n",
      "12/12 [==============================] - 452s 38s/step - loss: 0.6459 - accuracy: 0.2750 - val_loss: 0.4591 - val_accuracy: 0.0000e+00\n",
      "Epoch 2/25\n",
      "12/12 [==============================] - 481s 40s/step - loss: 0.6609 - accuracy: 0.3302 - val_loss: 0.4552 - val_accuracy: 0.0625\n",
      "Epoch 3/25\n",
      "12/12 [==============================] - 463s 39s/step - loss: 0.6705 - accuracy: 0.3177 - val_loss: 0.4421 - val_accuracy: 0.5500\n",
      "Epoch 4/25\n",
      "12/12 [==============================] - 420s 35s/step - loss: 0.6601 - accuracy: 0.3385 - val_loss: 0.4427 - val_accuracy: 0.4583\n",
      "Epoch 5/25\n",
      "12/12 [==============================] - 420s 35s/step - loss: 0.6599 - accuracy: 0.3135 - val_loss: 0.4604 - val_accuracy: 0.0000e+00\n",
      "Epoch 6/25\n",
      "12/12 [==============================] - 437s 36s/step - loss: 0.6785 - accuracy: 0.2854 - val_loss: 0.4573 - val_accuracy: 0.0417\n",
      "Epoch 7/25\n",
      "12/12 [==============================] - 430s 36s/step - loss: 0.6842 - accuracy: 0.2792 - val_loss: 0.4562 - val_accuracy: 0.0000e+00\n",
      "Epoch 8/25\n",
      "12/12 [==============================] - 426s 36s/step - loss: 0.6890 - accuracy: 0.2854 - val_loss: 0.4517 - val_accuracy: 0.0000e+00\n",
      "Epoch 9/25\n",
      "12/12 [==============================] - 425s 35s/step - loss: 0.7018 - accuracy: 0.2771 - val_loss: 0.4529 - val_accuracy: 0.0000e+00\n",
      "Epoch 10/25\n",
      "12/12 [==============================] - 406s 34s/step - loss: 0.6855 - accuracy: 0.2917 - val_loss: 0.4465 - val_accuracy: 0.1500\n",
      "Epoch 11/25\n",
      "12/12 [==============================] - 414s 34s/step - loss: 0.6930 - accuracy: 0.3052 - val_loss: 0.4498 - val_accuracy: 0.0917\n",
      "Epoch 12/25\n",
      "12/12 [==============================] - 389s 32s/step - loss: 0.6752 - accuracy: 0.3198 - val_loss: 0.4523 - val_accuracy: 0.0708\n",
      "Epoch 13/25\n",
      "12/12 [==============================] - 404s 34s/step - loss: 0.6806 - accuracy: 0.2677 - val_loss: 0.4418 - val_accuracy: 0.2542\n",
      "Epoch 14/25\n",
      "12/12 [==============================] - 393s 33s/step - loss: 0.6666 - accuracy: 0.3083 - val_loss: 0.4596 - val_accuracy: 0.0125\n",
      "Epoch 15/25\n",
      "12/12 [==============================] - 420s 35s/step - loss: 0.6942 - accuracy: 0.2979 - val_loss: 0.4495 - val_accuracy: 0.1333\n",
      "Epoch 16/25\n",
      "12/12 [==============================] - 423s 35s/step - loss: 0.6758 - accuracy: 0.2615 - val_loss: 0.4438 - val_accuracy: 0.2500\n",
      "Epoch 17/25\n",
      "12/12 [==============================] - 432s 36s/step - loss: 0.6920 - accuracy: 0.2833 - val_loss: 0.4428 - val_accuracy: 0.1625\n",
      "Epoch 18/25\n",
      "12/12 [==============================] - 430s 36s/step - loss: 0.6938 - accuracy: 0.3000 - val_loss: 0.4460 - val_accuracy: 0.2125\n",
      "Epoch 19/25\n",
      "12/12 [==============================] - 430s 36s/step - loss: 0.6860 - accuracy: 0.2875 - val_loss: 0.4378 - val_accuracy: 0.3333\n",
      "Epoch 20/25\n",
      "12/12 [==============================] - 406s 34s/step - loss: 0.6771 - accuracy: 0.3115 - val_loss: 0.4447 - val_accuracy: 0.2500\n",
      "Epoch 21/25\n",
      "12/12 [==============================] - 412s 34s/step - loss: 0.6592 - accuracy: 0.3125 - val_loss: 0.4435 - val_accuracy: 0.1875\n",
      "Epoch 22/25\n",
      "12/12 [==============================] - 404s 34s/step - loss: 0.6780 - accuracy: 0.2729 - val_loss: 0.4354 - val_accuracy: 0.4458\n",
      "Epoch 23/25\n",
      "12/12 [==============================] - 424s 35s/step - loss: 0.6715 - accuracy: 0.3000 - val_loss: 0.4540 - val_accuracy: 0.0417\n",
      "Epoch 24/25\n",
      "12/12 [==============================] - 418s 35s/step - loss: 0.6711 - accuracy: 0.2958 - val_loss: 0.4416 - val_accuracy: 0.3000\n",
      "Epoch 25/25\n",
      "12/12 [==============================] - 405s 34s/step - loss: 0.6715 - accuracy: 0.2906 - val_loss: 0.4533 - val_accuracy: 0.0792\n",
      "Test loss: 0.45325377583503723\n",
      "Test accuracy: 0.07916666567325592\n"
     ]
    }
   ],
   "source": [
    "model.compile(loss=keras.losses.categorical_crossentropy,\n",
    "              optimizer=keras.optimizers.Adadelta(),\n",
    "              metrics=['accuracy'])\n",
    "\n",
    "history = model.fit(X_train, y_train,\n",
    "          batch_size=batch_size,\n",
    "          epochs=epochs,\n",
    "          verbose=1,\n",
    "          validation_data=(X_test, y_test))\n",
    "score = model.evaluate(X_test, y_test, verbose=0)\n",
    "print('Test loss:', score[0])\n",
    "print('Test accuracy:', score[1])"
   ]
  },
  {
   "cell_type": "code",
   "execution_count": 44,
   "metadata": {},
   "outputs": [
    {
     "data": {
      "image/png": "[encoded data removed]",
      "text/plain": [
       "<Figure size 432x288 with 1 Axes>"
      ]
     },
     "metadata": {
      "needs_background": "light"
     },
     "output_type": "display_data"
    }
   ],
   "source": [
    "# summarize history for accuracy\n",
    "plt.plot(history.history['accuracy'])\n",
    "plt.plot(history.history['val_accuracy'])\n",
    "plt.title('model accuracy')\n",
    "plt.ylabel('accuracy')\n",
    "plt.xlabel('epoch')\n",
    "plt.legend(['train', 'validate'], loc='upper left')\n",
    "plt.show()"
   ]
  },
  {
   "cell_type": "code",
   "execution_count": 45,
   "metadata": {},
   "outputs": [
    {
     "data": {
      "image/png": "[encoded data removed]",
      "text/plain": [
       "<Figure size 432x288 with 1 Axes>"
      ]
     },
     "metadata": {
      "needs_background": "light"
     },
     "output_type": "display_data"
    }
   ],
   "source": [
    "# summarize history for loss\n",
    "plt.plot(history.history['loss'])\n",
    "plt.plot(history.history['val_loss'])\n",
    "plt.title('model loss')\n",
    "plt.ylabel('loss')\n",
    "plt.xlabel('epoch')\n",
    "plt.legend(['train', 'validate'], loc='upper left')\n",
    "plt.show()"
   ]
  }
 ],
 "metadata": {
  "kernelspec": {
   "display_name": "Python 3",
   "language": "python",
   "name": "python3"
  },
  "language_info": {
   "codemirror_mode": {
    "name": "ipython",
    "version": 3
   },
   "file_extension": ".py",
   "mimetype": "text/x-python",
   "name": "python",
   "nbconvert_exporter": "python",
   "pygments_lexer": "ipython3",
   "version": "3.7.4"
  }
 },
 "nbformat": 4,
 "nbformat_minor": 2
}
